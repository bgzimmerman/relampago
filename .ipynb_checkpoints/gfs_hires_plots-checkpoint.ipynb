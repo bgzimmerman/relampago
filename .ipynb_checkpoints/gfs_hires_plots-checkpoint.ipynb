{
 "cells": [
  {
   "cell_type": "code",
   "execution_count": 113,
   "metadata": {
    "collapsed": true
   },
   "outputs": [],
   "source": [
    "from __future__ import print_function, division\n",
    "from datetime import datetime\n",
    "import numpy as np\n",
    "import matplotlib.pyplot as plt\n",
    "from datetime import datetime, timedelta\n",
    "from netCDF4 import Dataset, num2date\n",
    "from siphon.catalog import TDSCatalog\n",
    "from siphon.ncss import NCSS\n",
    "import matplotlib\n",
    "import matplotlib.pyplot as plt\n",
    "plt.style.use('ncar_wrf_plots')\n",
    "from mpl_toolkits.basemap import Basemap\n",
    "from mpl_toolkits.axes_grid1 import make_axes_locatable\n",
    "import matplotlib.gridspec as gridspec\n",
    "from color_maker.color_maker import color_map\n",
    "import os\n",
    "%matplotlib inline"
   ]
  },
  {
   "cell_type": "code",
   "execution_count": 137,
   "metadata": {
    "collapsed": true
   },
   "outputs": [],
   "source": [
    "cormenlat = (-31.42,-32.89)\n",
    "cormenlon = (-64.18,-68.84)\n",
    "exportdir = '/home/disk/user_www/lmadaus/relampago/gfs'\n",
    "variables = {'Precipitable_water_entire_atmosphere_single_layer' : ('Precipitable Water','mm','pwat',(0,35),'ncar_moist'),\n",
    "             'Precipitation_rate_surface_Mixed_intervals_Average' : ('Total Precipitation Rate','mm/hr','precip',(0,10.0), 'ncar_precip'),\n",
    "             }\n"
   ]
  },
  {
   "cell_type": "code",
   "execution_count": 78,
   "metadata": {
    "collapsed": false
   },
   "outputs": [],
   "source": [
    "m = Basemap(projection='merc', llcrnrlon=bounds[0], urcrnrlon=bounds[1], llcrnrlat=bounds[2], urcrnrlat=bounds[3], \n",
    "            resolution='l', area_thresh=5000)"
   ]
  },
  {
   "cell_type": "code",
   "execution_count": 108,
   "metadata": {
    "collapsed": false
   },
   "outputs": [],
   "source": [
    "def get_gfs():\n",
    "    best_gfs = TDSCatalog('http://thredds.ucar.edu/thredds/catalog/grib/NCEP/GFS/Global_0p25deg/latest.xml')\n",
    "    best_ds = list(best_gfs.datasets.values())[0]\n",
    "    ncss = NCSS(best_ds.access_urls['NetcdfSubset'])\n",
    "    query = ncss.query()\n",
    "    # West east south north\n",
    "    bounds = (-72.0, -54.5, -37.0, -26.25)\n",
    "    query.lonlat_box(*bounds)\n",
    "    query.accept('netcdf4')\n",
    "    query.time_range(datetime.utcnow(), datetime.utcnow()+timedelta(days=5))\n",
    "\n",
    "    query.variables(*((variables.keys())))\n",
    "    data = ncss.get_data(query)\n",
    "    return data"
   ]
  },
  {
   "cell_type": "code",
   "execution_count": 140,
   "metadata": {
    "collapsed": true
   },
   "outputs": [],
   "source": [
    "def get_terrain(terrfile='geo_em.d01.nc'):\n",
    "    \"\"\"\n",
    "    Loads terrain height from WRF file\n",
    "    \"\"\"\n",
    "    from scipy.ndimage.filters import gaussian_filter\n",
    "    from netCDF4 import Dataset\n",
    "    with Dataset(terrfile,'r') as dset:\n",
    "        lats = dset.variables['XLAT_M'][0]\n",
    "        lons = dset.variables['XLONG_M'][0]\n",
    "        hgt = dset.variables['HGT_M'][0]\n",
    "    xhgt, yhgt = m(lons, lats)\n",
    "    hgt = gaussian_filter(hgt, 1)\n",
    "    return xhgt, yhgt, hgt"
   ]
  },
  {
   "cell_type": "code",
   "execution_count": 146,
   "metadata": {
    "collapsed": false
   },
   "outputs": [],
   "source": [
    "def make_plot(pltdat, export=False):   \n",
    "    gs = gridspec.GridSpec(2,2,height_ratios=(25,1))\n",
    "    plt.figure(figsize=(15,12))\n",
    "    plt.subplot(gs[0,:])\n",
    "    \n",
    "    if pltdat['pltcode'] == 'precip':\n",
    "        pltdat['field'] = pltdat['field'] * 3600.0\n",
    "    \n",
    "    theplot = plt.pcolormesh(x,y,pltdat['field'], vmin=pltdat['range'][0], vmax=pltdat['range'][1],\\\n",
    "                            cmap=pltdat['cmap'])\n",
    "    plt.scatter(xpt, ypt, s=100, marker='s', facecolor='Firebrick', edgecolor='white')\n",
    "    \n",
    "    # Contour terrain\n",
    "    plt.contour(xhgt, yhgt, hgt, np.arange(500,4000,500), linewidths=1, colors='0.4')\n",
    "    m.drawcoastlines(linewidth=2)\n",
    "    m.drawcountries(linewidth=2)\n",
    "    m.drawstates(linewidth=1, color='0.8')\n",
    "\n",
    "    tax = plt.subplot(gs[1,0])\n",
    "    plt.text(0,0.75, '{modelname:s} {varname:s}'.format(**pltdat), fontsize=24, ha='left', va='center', transform=tax.transAxes)\n",
    "    plt.text(0,0.00, 'Valid: {valid:%d %b %H00 UTC} | Init: {init:%d %b %H00 UTC}'.format(**pltdat), fontsize=18, ha='left', va='center', transform=tax.transAxes)\n",
    "    plt.text(1.0, 0.75, 'F{flead:03d}'.format(**pltdat), fontsize=24, ha='right', va='center', transform=tax.transAxes)\n",
    "    #plt.text(0,-0.75, 'Init: {init: %d %b %H00 UTC}'.format(**pltdat), fontsize=18, ha='left', va='center', transform=tax.transAxes)\n",
    "    tax.axis('off')\n",
    "\n",
    "    cax = plt.subplot(gs[1,1])\n",
    "    cbar = plt.colorbar(theplot, cax=cax, orientation='horizontal')\n",
    "    cbar.set_label(label='{varname:s} [{varunit:s}]'.format(**pltdat), fontsize=18)\n",
    "    cax.tick_params(labelsize=18) \n",
    "\n",
    "\n",
    "    plt.tight_layout()\n",
    "    if export:\n",
    "        outpath = '{:s}/{:%Y%m%d%H}'.format(exportdir, pltdat['init'])\n",
    "        filename = '{pltcode:s}_{valid:%Y%m%d%H}_f{flead:03d}.png'.format(**pltdat)\n",
    "        if not os.path.exists(outpath):\n",
    "            os.system('mkdir {:s}'.format(outpath))\n",
    "\n",
    "        plt.savefig(filename, bbox_inches='tight')\n",
    "        os.system('mv {:s} {:s}'.format(filename, outpath))           \n",
    "        plt.close()\n",
    "    else:\n",
    "        plt.show()"
   ]
  },
  {
   "cell_type": "code",
   "execution_count": 144,
   "metadata": {
    "collapsed": true
   },
   "outputs": [],
   "source": [
    "xhgt, yhgt, hgt = get_terrain()"
   ]
  },
  {
   "cell_type": "code",
   "execution_count": 109,
   "metadata": {
    "collapsed": true
   },
   "outputs": [],
   "source": [
    "data = get_gfs()"
   ]
  },
  {
   "cell_type": "code",
   "execution_count": 128,
   "metadata": {
    "collapsed": false
   },
   "outputs": [],
   "source": [
    "glon, glat = np.meshgrid(data.variables['lon'][:]-360, data.variables['lat'][:])\n",
    "x,y = m(glon, glat)\n",
    "xpt, ypt = m(cormenlon, cormenlat)"
   ]
  },
  {
   "cell_type": "code",
   "execution_count": 148,
   "metadata": {
    "collapsed": false
   },
   "outputs": [
    {
     "name": "stdout",
     "output_type": "stream",
     "text": [
      "2017-05-16 00:00:00\n",
      "('   ', 'precip')\n",
      "('   ', 'pwat')\n",
      "2017-05-16 03:00:00\n",
      "('   ', 'precip')\n",
      "('   ', 'pwat')\n",
      "2017-05-16 06:00:00\n",
      "('   ', 'precip')\n",
      "('   ', 'pwat')\n",
      "2017-05-16 09:00:00\n",
      "('   ', 'precip')\n",
      "('   ', 'pwat')\n",
      "2017-05-16 12:00:00\n",
      "('   ', 'precip')\n",
      "('   ', 'pwat')\n",
      "2017-05-16 15:00:00\n",
      "('   ', 'precip')\n",
      "('   ', 'pwat')\n",
      "2017-05-16 18:00:00\n",
      "('   ', 'precip')\n",
      "('   ', 'pwat')\n",
      "2017-05-16 21:00:00\n",
      "('   ', 'precip')\n",
      "('   ', 'pwat')\n",
      "2017-05-17 00:00:00\n",
      "('   ', 'precip')\n",
      "('   ', 'pwat')\n",
      "2017-05-17 03:00:00\n",
      "('   ', 'precip')\n",
      "('   ', 'pwat')\n",
      "2017-05-17 06:00:00\n",
      "('   ', 'precip')\n",
      "('   ', 'pwat')\n",
      "2017-05-17 09:00:00\n",
      "('   ', 'precip')\n",
      "('   ', 'pwat')\n",
      "2017-05-17 12:00:00\n",
      "('   ', 'precip')\n",
      "('   ', 'pwat')\n",
      "2017-05-17 15:00:00\n",
      "('   ', 'precip')\n",
      "('   ', 'pwat')\n",
      "2017-05-17 18:00:00\n",
      "('   ', 'precip')\n",
      "('   ', 'pwat')\n",
      "2017-05-17 21:00:00\n",
      "('   ', 'precip')\n",
      "('   ', 'pwat')\n",
      "2017-05-18 00:00:00\n",
      "('   ', 'precip')\n",
      "('   ', 'pwat')\n",
      "2017-05-18 03:00:00\n",
      "('   ', 'precip')\n",
      "('   ', 'pwat')\n",
      "2017-05-18 06:00:00\n",
      "('   ', 'precip')\n",
      "('   ', 'pwat')\n",
      "2017-05-18 09:00:00\n",
      "('   ', 'precip')\n",
      "('   ', 'pwat')\n",
      "2017-05-18 12:00:00\n",
      "('   ', 'precip')\n",
      "('   ', 'pwat')\n",
      "2017-05-18 15:00:00\n",
      "('   ', 'precip')\n",
      "('   ', 'pwat')\n",
      "2017-05-18 18:00:00\n",
      "('   ', 'precip')\n",
      "('   ', 'pwat')\n",
      "2017-05-18 21:00:00\n",
      "('   ', 'precip')\n",
      "('   ', 'pwat')\n",
      "2017-05-19 00:00:00\n",
      "('   ', 'precip')\n",
      "('   ', 'pwat')\n",
      "2017-05-19 03:00:00\n",
      "('   ', 'precip')\n",
      "('   ', 'pwat')\n",
      "2017-05-19 06:00:00\n",
      "('   ', 'precip')\n",
      "('   ', 'pwat')\n",
      "2017-05-19 09:00:00\n",
      "('   ', 'precip')\n",
      "('   ', 'pwat')\n",
      "2017-05-19 12:00:00\n",
      "('   ', 'precip')\n",
      "('   ', 'pwat')\n",
      "2017-05-19 15:00:00\n",
      "('   ', 'precip')\n",
      "('   ', 'pwat')\n",
      "2017-05-19 18:00:00\n",
      "('   ', 'precip')\n",
      "('   ', 'pwat')\n",
      "2017-05-19 21:00:00\n",
      "('   ', 'precip')\n",
      "('   ', 'pwat')\n",
      "2017-05-20 00:00:00\n",
      "('   ', 'precip')\n",
      "('   ', 'pwat')\n",
      "2017-05-20 03:00:00\n",
      "('   ', 'precip')\n",
      "('   ', 'pwat')\n",
      "2017-05-20 06:00:00\n",
      "('   ', 'precip')\n",
      "('   ', 'pwat')\n",
      "2017-05-20 09:00:00\n",
      "('   ', 'precip')\n",
      "('   ', 'pwat')\n",
      "2017-05-20 12:00:00\n",
      "('   ', 'precip')\n",
      "('   ', 'pwat')\n",
      "2017-05-20 15:00:00\n",
      "('   ', 'precip')\n",
      "('   ', 'pwat')\n",
      "2017-05-20 18:00:00\n",
      "('   ', 'precip')\n",
      "('   ', 'pwat')\n",
      "2017-05-20 21:00:00\n",
      "('   ', 'precip')\n",
      "('   ', 'pwat')\n"
     ]
    }
   ],
   "source": [
    "if 'time1' in data.variables.keys():\n",
    "    timevar = 'time1'\n",
    "else:\n",
    "    timevar = 'time2'\n",
    "times = num2date(data.variables[timevar][:], units = data.variables[timevar].units)\n",
    "for n,time in enumerate(times):\n",
    "    #if n !=0:\n",
    "    #    continue\n",
    "    print(time)\n",
    "    flead = data.variables[timevar][n]\n",
    "    init = time - timedelta(hours=flead)\n",
    "    #print(init)\n",
    "    for fullvar, varcodes in variables.items():\n",
    "        print('   ', varcodes[2])\n",
    "        plotdata = {\n",
    "            'field' : data.variables[fullvar][n],\n",
    "            'varname' : varcodes[0],\n",
    "            'varunit' : varcodes[1],\n",
    "            'modelname' : 'GFS',\n",
    "            'cmap' : color_map(varcodes[4]),\n",
    "            'valid' : time,\n",
    "            'init' : init,\n",
    "            'flead' : int(flead),\n",
    "            'pltcode' : varcodes[2],\n",
    "            'range' : varcodes[3],\n",
    "        }\n",
    "        make_plot(plotdata, export=True)"
   ]
  },
  {
   "cell_type": "code",
   "execution_count": null,
   "metadata": {
    "collapsed": true
   },
   "outputs": [],
   "source": []
  }
 ],
 "metadata": {
  "kernelspec": {
   "display_name": "Python 2",
   "language": "python",
   "name": "python2"
  },
  "language_info": {
   "codemirror_mode": {
    "name": "ipython",
    "version": 2
   },
   "file_extension": ".py",
   "mimetype": "text/x-python",
   "name": "python",
   "nbconvert_exporter": "python",
   "pygments_lexer": "ipython2",
   "version": "2.7.12"
  }
 },
 "nbformat": 4,
 "nbformat_minor": 0
}
