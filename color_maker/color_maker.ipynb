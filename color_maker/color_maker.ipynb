{
 "cells": [
  {
   "cell_type": "code",
   "execution_count": 1,
   "metadata": {
    "collapsed": true
   },
   "outputs": [],
   "source": [
    "import matplotlib\n",
    "import matplotlib.pyplot as plt\n"
   ]
  },
  {
   "cell_type": "code",
   "execution_count": 8,
   "metadata": {
    "collapsed": true
   },
   "outputs": [],
   "source": [
    "def color_map(name=None):\n",
    "    try:\n",
    "        infile = open(name+'.coltbl','r')\n",
    "    except:\n",
    "        print(\"Unable to find colormap:\", name)\n",
    "        return None\n",
    "    \n",
    "    # Build the colors\n",
    "    lines = infile.readlines()\n",
    "    nlines = len(lines)\n",
    "    infile.close()\n",
    "    cdict = {}\n",
    "    cdict['red'] = [(n/float(nlines-1), float(line.split(' ')[0])/255., float(line.split(' ')[0])/255.) for n,line in enumerate(lines)]\n",
    "    cdict['green'] = [(n/float(nlines-1), float(line.split(' ')[1])/255., float(line.split(' ')[1])/255.) for n,line in enumerate(lines)]\n",
    "    cdict['blue'] = [(n/float(nlines-1), float(line.split(' ')[2])/255., float(line.split(' ')[2])/255.) for n,line in enumerate(lines)]\n",
    "\n",
    "    return matplotlib.colors.LinearSegmentedColormap(name=name, segmentdata=cdict)\n",
    "        \n",
    "    \n",
    "    "
   ]
  },
  {
   "cell_type": "code",
   "execution_count": 9,
   "metadata": {
    "collapsed": false
   },
   "outputs": [],
   "source": []
  },
  {
   "cell_type": "code",
   "execution_count": 10,
   "metadata": {
    "collapsed": false
   },
   "outputs": [
    {
     "data": {
      "text/plain": [
       "<matplotlib.colors.LinearSegmentedColormap at 0x2b0a8d0>"
      ]
     },
     "execution_count": 10,
     "metadata": {},
     "output_type": "execute_result"
    }
   ],
   "source": []
  },
  {
   "cell_type": "code",
   "execution_count": null,
   "metadata": {
    "collapsed": true
   },
   "outputs": [],
   "source": []
  }
 ],
 "metadata": {
  "kernelspec": {
   "display_name": "Python 2",
   "language": "python",
   "name": "python2"
  },
  "language_info": {
   "codemirror_mode": {
    "name": "ipython",
    "version": 2
   },
   "file_extension": ".py",
   "mimetype": "text/x-python",
   "name": "python",
   "nbconvert_exporter": "python",
   "pygments_lexer": "ipython2",
   "version": "2.7.6"
  }
 },
 "nbformat": 4,
 "nbformat_minor": 0
}
